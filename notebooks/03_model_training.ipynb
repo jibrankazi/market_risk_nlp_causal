{
 "cells": [
  {
   "cell_type": "markdown",
   "id": "d6570012",
   "metadata": {},
   "source": [
    "# Model Training & Evaluation\n",
    "\n",
    "In this notebook we train a logistic regression classifier to predict periods of elevated market risk using the engineered features. We evaluate the model's performance using standard classification metrics and visualise the confusion matrix."
   ]
  },
  {
   "cell_type": "code",
   "execution_count": null,
   "id": "eec0f5a8",
   "metadata": {},
   "outputs": [],
   "source": [
    "import pandas as pd\n",
    "from pathlib import Path\n",
    "from src.model_training import train_logistic_model\n",
    "from src.visualization import plot_return_distribution, plot_confusion_matrix\n",
    "\n",
    "# Load processed data\n",
    "analytical_df = pd.read_csv('data/processed/analytical_data.csv', index_col=0, parse_dates=True)\n",
    "\n",
    "# Define feature columns (exclude target and Next_Return)\n",
    "feature_cols = ['Log_Return', 'Rolling_Vol']\n",
    "if 'Sentiment' in analytical_df.columns:\n",
    "    feature_cols.append('Sentiment')\n",
    "\n",
    "# Train model and evaluate\n",
    "results = train_logistic_model(analytical_df, feature_cols)\n",
    "print(f\"Accuracy: {results.accuracy:.3f}\n",
    "Precision: {results.precision:.3f}\n",
    "Recall: {results.recall:.3f}\n",
    "F1-Score: {results.f1:.3f}\n",
    "ROC-AUC: {results.roc_auc:.3f}\")\n",
    "print(\"Confusion Matrix:\n",
    "\", results.confusion)\n",
    "\n",
    "# Plot confusion matrix\n",
    "plot_confusion_matrix(results.confusion, path=Path('visualizations/confusion_matrix.png'))"
   ]
  }
 ],
 "metadata": {},
 "nbformat": 4,
 "nbformat_minor": 5
}
