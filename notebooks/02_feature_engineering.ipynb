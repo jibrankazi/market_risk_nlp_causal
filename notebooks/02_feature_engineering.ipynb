{
 "cells": [
  {
   "cell_type": "markdown",
   "id": "a323a59e",
   "metadata": {},
   "source": [
    "# Feature Engineering\n",
    "\n",
    "This notebook constructs an analytical dataset by combining price data and sentiment scores. It derives log returns, rolling volatility, and labels periods of market stress (risk events)."
   ]
  },
  {
   "cell_type": "code",
   "execution_count": null,
   "id": "e7589a63",
   "metadata": {},
   "outputs": [],
   "source": [
    "import pandas as pd\n",
    "from pathlib import Path\n",
    "from src.feature_engineering import create_analytical_dataset, save_analytical_dataset\n",
    "\n",
    "# Load raw data\n",
    "price_df = pd.read_csv('data/raw/spy_prices.csv', index_col=0, parse_dates=True)\n",
    "sent_scores = pd.read_csv('data/raw/sample_sentiments.csv', header=None, squeeze=True)\n",
    "# Use the sentiment series with current date repeated for demonstration\n",
    "sent_series = pd.Series(sent_scores.iloc[:,0].values, index=[price_df.index[0]]*len(sent_scores))\n",
    "\n",
    "# Create analytical dataset\n",
    "analytical_df = create_analytical_dataset(price_df, sentiment_scores=sent_series)\n",
    "print(analytical_df.head())\n",
    "\n",
    "# Save processed data\n",
    "save_analytical_dataset(analytical_df, Path('data/processed/analytical_data.csv'))\n",
    "# Sample 100 records (or all if fewer) and label columns as Source/Derived/Target\n",
    "import numpy as np\n",
    "sample_df = analytical_df.sample(n=min(100, len(analytical_df)), random_state=42).copy()\n",
    "labels = {}\n",
    "# Define labeling (manual for demonstration)\n",
    "for col in sample_df.columns:\n",
    "    if col in ['Adj Close', 'Volume', 'Open', 'High', 'Low', 'Close']:\n",
    "        labels[col] = 'Source'\n",
    "    elif col in ['Log_Return', 'Rolling_Vol', 'Next_Return', 'Sentiment']:\n",
    "        labels[col] = 'Derived'\n",
    "    elif col == 'Risk_Flag':\n",
    "        labels[col] = 'Target'\n",
    "    else:\n",
    "        labels[col] = 'Derived'\n",
    "\n",
    "sample_df.columns = [f\"{col} ({labels[col]})\" for col in sample_df.columns]\n",
    "# Save sample\n",
    "sample_df.to_csv('data/processed/analytical_sample.csv', index=False)\n",
    "print(sample_df.head())"
   ]
  }
 ],
 "metadata": {},
 "nbformat": 4,
 "nbformat_minor": 5
}
