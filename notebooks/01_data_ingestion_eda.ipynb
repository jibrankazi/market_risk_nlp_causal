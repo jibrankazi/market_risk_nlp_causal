{
 "cells": [
  {
   "cell_type": "markdown",
   "id": "c67d05a4",
   "metadata": {},
   "source": [
    "# Data Ingestion & Exploratory Data Analysis\n",
    "\n",
    "This notebook downloads historical price data for a selected asset using the `yfinance` API and computes sentiment scores for a handful of sample news headlines. We then explore the structure and basic statistics of the downloaded data."
   ]
  },
  {
   "cell_type": "code",
   "execution_count": 1,
   "id": "bf58bd04",
   "metadata": {
    "execution": {
     "iopub.execute_input": "2025-08-07T05:12:27.916237Z",
     "iopub.status.busy": "2025-08-07T05:12:27.915973Z",
     "iopub.status.idle": "2025-08-07T05:12:37.671592Z",
     "shell.execute_reply": "2025-08-07T05:12:37.670132Z"
    }
   },
   "outputs": [
    {
     "name": "stderr",
     "output_type": "stream",
     "text": [
      "/home/oai/share/market_risk_setup/src/data_ingestion.py:58: FutureWarning: YF.download() has changed argument auto_adjust default to True\n",
      "  data = yf.download(ticker, start=start_date, end=end_date, interval=interval, progress=False)\n"
     ]
    },
    {
     "name": "stderr",
     "output_type": "stream",
     "text": [
      "\n",
      "1 Failed download:\n"
     ]
    },
    {
     "name": "stderr",
     "output_type": "stream",
     "text": [
      "['SPY']: YFRateLimitError('Too Many Requests. Rate limited. Try after a while.')\n"
     ]
    },
    {
     "name": "stdout",
     "output_type": "stream",
     "text": [
      "Empty DataFrame\n",
      "Columns: [(Adj Close, SPY), (Close, SPY), (High, SPY), (Low, SPY), (Open, SPY), (Volume, SPY)]\n",
      "Index: []\n",
      "[('Stocks rally as investors shrug off economic slowdown fears', 0.2), ('Central bank signals cautious approach amid inflation concerns', 0.0), ('Tech giant reports record profits beating analyst expectations', 0.0), ('Market volatility spikes after unexpected geopolitical tensions', 0.1), ('Energy sector dips on weak demand forecasts', -0.375)]\n"
     ]
    }
   ],
   "source": [
    "from pathlib import Path\n",
    "import pandas as pd\n",
    "from src.data_ingestion import download_price_data, fetch_sample_news, compute_sentiment_scores, save_dataframe, save_series\n",
    "\n",
    "# Define parameters\n",
    "ticker = \"SPY\"\n",
    "end_date = pd.Timestamp.today()\n",
    "start_date = end_date - pd.Timedelta(days=365)\n",
    "\n",
    "# Download price data\n",
    "price_df = download_price_data(ticker, start_date.strftime('%Y-%m-%d'), end_date.strftime('%Y-%m-%d'))\n",
    "print(price_df.head())\n",
    "\n",
    "# Compute sentiment for sample headlines\n",
    "headlines = fetch_sample_news()\n",
    "sent_scores = compute_sentiment_scores(headlines)\n",
    "print(list(zip(headlines, sent_scores)))\n",
    "\n",
    "# Save raw data\n",
    "save_dataframe(price_df, Path('data/raw/spy_prices.csv'))\n",
    "save_series(sent_scores, Path('data/raw/sample_sentiments.csv'))"
   ]
  },
  {
   "cell_type": "code",
   "execution_count": 2,
   "id": "6f5108b9",
   "metadata": {
    "execution": {
     "iopub.execute_input": "2025-08-07T05:12:37.676315Z",
     "iopub.status.busy": "2025-08-07T05:12:37.675956Z",
     "iopub.status.idle": "2025-08-07T05:12:39.025083Z",
     "shell.execute_reply": "2025-08-07T05:12:39.024134Z"
    }
   },
   "outputs": [
    {
     "data": {
      "image/png": "[encoded data removed]",
      "text/plain": [
       "<Figure size 1000x400 with 1 Axes>"
      ]
     },
     "metadata": {},
     "output_type": "display_data"
    },
    {
     "name": "stdout",
     "output_type": "stream",
     "text": [
      "Price  Adj Close Close High  Low Open Volume\n",
      "Ticker       SPY   SPY  SPY  SPY  SPY    SPY\n",
      "count        0.0   0.0  0.0  0.0  0.0    0.0\n",
      "mean         NaN   NaN  NaN  NaN  NaN    NaN\n",
      "std          NaN   NaN  NaN  NaN  NaN    NaN\n",
      "min          NaN   NaN  NaN  NaN  NaN    NaN\n",
      "25%          NaN   NaN  NaN  NaN  NaN    NaN\n",
      "50%          NaN   NaN  NaN  NaN  NaN    NaN\n",
      "75%          NaN   NaN  NaN  NaN  NaN    NaN\n",
      "max          NaN   NaN  NaN  NaN  NaN    NaN\n"
     ]
    }
   ],
   "source": [
    "# Basic EDA on price data\n",
    "import matplotlib.pyplot as plt\n",
    "import seaborn as sns\n",
    "\n",
    "price_df['Adj Close'].plot(title='SPY Adjusted Close Price', figsize=(10,4))\n",
    "plt.show()\n",
    "\n",
    "print(price_df.describe())"
   ]
  }
 ],
 "metadata": {
  "language_info": {
   "codemirror_mode": {
    "name": "ipython",
    "version": 3
   },
   "file_extension": ".py",
   "mimetype": "text/x-python",
   "name": "python",
   "nbconvert_exporter": "python",
   "pygments_lexer": "ipython3",
   "version": "3.11.2"
  }
 },
 "nbformat": 4,
 "nbformat_minor": 5
}
